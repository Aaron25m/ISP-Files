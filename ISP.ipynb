{
  "nbformat": 4,
  "nbformat_minor": 0,
  "metadata": {
    "colab": {
      "provenance": [],
      "collapsed_sections": [],
      "authorship_tag": "ABX9TyNk0M+sTwzL66aWhMuyJ7ts",
      "include_colab_link": true
    },
    "kernelspec": {
      "name": "python3",
      "display_name": "Python 3"
    },
    "language_info": {
      "name": "python"
    }
  },
  "cells": [
    {
      "cell_type": "markdown",
      "metadata": {
        "id": "view-in-github",
        "colab_type": "text"
      },
      "source": [
        "<a href=\"https://colab.research.google.com/github/Aaron25m/ISP-Files/blob/main/ISP.ipynb\" target=\"_parent\"><img src=\"https://colab.research.google.com/assets/colab-badge.svg\" alt=\"Open In Colab\"/></a>"
      ]
    },
    {
      "cell_type": "code",
      "execution_count": null,
      "metadata": {
        "colab": {
          "base_uri": "https://localhost:8080/"
        },
        "id": "Sh8eFxYSSU50",
        "outputId": "ac9e8f91-c0b1-4c7a-d723-48b2d85f1b2f"
      },
      "outputs": [
        {
          "output_type": "stream",
          "name": "stdout",
          "text": [
            "MBA TECH BATCH\n"
          ]
        }
      ],
      "source": [
        "#Printing text\n",
        "a=5\n",
        "b=6\n",
        "text=\"MBA TECH BATCH\"\n",
        "TEXT=\"hi\"\n",
        "print(text)"
      ]
    },
    {
      "cell_type": "code",
      "source": [
        "#\n",
        "y=input(\"Do u want to start the program: \")\n",
        "if y==\"Yes\":\n",
        " def num():\n",
        "  n=int(input(\"Enter a number: \"))\n",
        "  if n<=0:\n",
        "   print(\"Enter a number greater than zero!!\")\n",
        "  elif n>5:\n",
        "    print(\"Number is greater than five!!!\")\n",
        "  elif n<5:\n",
        "    print(\"Number is less than five!!!\")\n",
        "if y==\"No\":\n",
        "  print(\"Thank you!\")\n",
        "num()"
      ],
      "metadata": {
        "id": "rtXz5T-QWb2N"
      },
      "execution_count": null,
      "outputs": []
    },
    {
      "cell_type": "code",
      "source": [
        "#Looping a String\n",
        "def word_rep():\n",
        " x=str(input(\"Enter a word:\"))\n",
        " for i in range(0,5):\n",
        "   print(x)\n",
        "word_rep()  \n",
        " "
      ],
      "metadata": {
        "colab": {
          "base_uri": "https://localhost:8080/"
        },
        "id": "aF0cS1jIXVHn",
        "outputId": "98176ee4-b1c4-4ea3-e562-62239009df8b"
      },
      "execution_count": null,
      "outputs": [
        {
          "output_type": "stream",
          "name": "stdout",
          "text": [
            "Enter a word:hi\n",
            "hi\n",
            "hi\n",
            "hi\n",
            "hi\n",
            "hi\n"
          ]
        }
      ]
    },
    {
      "cell_type": "code",
      "source": [
        "#Sum of two numbers\n",
        "def sum():\n",
        "  x=int(input(\"Enter num1: \"))\n",
        "  y=int(input(\"Enter num2: \"))\n",
        "  z=x+y\n",
        "  print(\"The sum is: \",z)\n",
        "sum()"
      ],
      "metadata": {
        "colab": {
          "base_uri": "https://localhost:8080/"
        },
        "id": "5_VlUDSpZU92",
        "outputId": "ba7796de-8f60-4b6d-f055-d9a96608db7d"
      },
      "execution_count": null,
      "outputs": [
        {
          "output_type": "stream",
          "name": "stdout",
          "text": [
            "Enter num1: 5\n",
            "Enter num2: 5\n",
            "The sum is:  10\n"
          ]
        }
      ]
    },
    {
      "cell_type": "code",
      "source": [
        "#Mood\n",
        "def mood():\n",
        "  m=input(\"Enter your mood:\")\n",
        "  if m==\"happy\":\n",
        "    print(\":)\")\n",
        "  elif m==\"sad\":\n",
        "    print(\":(\")\n",
        "mood()      "
      ],
      "metadata": {
        "colab": {
          "base_uri": "https://localhost:8080/"
        },
        "id": "hBoizd1ua9TX",
        "outputId": "741084ef-a1c4-4833-b3b5-f6654b4780c7"
      },
      "execution_count": null,
      "outputs": [
        {
          "output_type": "stream",
          "name": "stdout",
          "text": [
            "Enter your mood:sad\n",
            ":(\n"
          ]
        }
      ]
    },
    {
      "cell_type": "code",
      "source": [
        "#Caesar's Cypher Encryption\n",
        "def caesar():\n",
        "  text=str(input(\"Enter the word: \"))\n",
        "  s=int(input(\"Enter the key: \"))\n",
        "  result=\"\" \n",
        "  for i in range(len(text)):\n",
        "     char=text[i]\n",
        "     if (char.isupper()):\n",
        "              result += chr((ord(char)+s-65)%26 +65) \n",
        "     else:\n",
        "              result += chr((ord(char)+s-97)%26 +97)\n",
        "  print(result)\n",
        "caesar()"
      ],
      "metadata": {
        "colab": {
          "base_uri": "https://localhost:8080/"
        },
        "id": "JH_CuzfDeQeN",
        "outputId": "9336078a-732c-4fbd-f3cc-59cada7d05bd"
      },
      "execution_count": null,
      "outputs": [
        {
          "output_type": "stream",
          "name": "stdout",
          "text": [
            "Enter the word: car\n",
            "Enter the key: 5\n",
            "hfw\n"
          ]
        }
      ]
    },
    {
      "cell_type": "code",
      "source": [
        "#Caesar's Cypher Decryption\n",
        "def dec_caesar():\n",
        "  text=str(input(\"Enter the word: \"))\n",
        "  s=int(input(\"Enter the key: \"))\n",
        "  result=\"\" \n",
        "  for i in range(len(text)):\n",
        "     char=text[i]\n",
        "     if (char.isupper()):\n",
        "              result += chr((ord(char)-s-65)%26 +65) \n",
        "     else:\n",
        "              result += chr((ord(char)-s-97)%26 +97)\n",
        "  print(result)\n",
        "des=str(input(\"DO YOU WANT TO DECRYPT THE CODE?????: \" ))\n",
        "if des==\"yes\":\n",
        "  dec_caesar()"
      ],
      "metadata": {
        "colab": {
          "base_uri": "https://localhost:8080/"
        },
        "outputId": "7365761a-9edb-4125-9358-d9b210e9f23f",
        "id": "SsOpgUSVl9OU"
      },
      "execution_count": null,
      "outputs": [
        {
          "output_type": "stream",
          "name": "stdout",
          "text": [
            "DO YOU WANT TO DECRYPT THE CODE?????true\n",
            "Enter the word: hfw\n",
            "Enter the key: 5\n",
            "car\n"
          ]
        }
      ]
    }
  ]
}