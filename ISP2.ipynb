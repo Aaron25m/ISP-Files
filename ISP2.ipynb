{
  "nbformat": 4,
  "nbformat_minor": 0,
  "metadata": {
    "colab": {
      "provenance": [],
      "collapsed_sections": [],
      "authorship_tag": "ABX9TyMYXVCeT8i47Awb4c9sswpn",
      "include_colab_link": true
    },
    "kernelspec": {
      "name": "python3",
      "display_name": "Python 3"
    },
    "language_info": {
      "name": "python"
    }
  },
  "cells": [
    {
      "cell_type": "markdown",
      "metadata": {
        "id": "view-in-github",
        "colab_type": "text"
      },
      "source": [
        "<a href=\"https://colab.research.google.com/github/Aaron25m/ISP-Files/blob/main/ISP2.ipynb\" target=\"_parent\"><img src=\"https://colab.research.google.com/assets/colab-badge.svg\" alt=\"Open In Colab\"/></a>"
      ]
    },
    {
      "cell_type": "markdown",
      "source": [
        "VERNAM'S ENCRYPTION **CIPHER**"
      ],
      "metadata": {
        "id": "bHW_Mj1rvGpd"
      }
    },
    {
      "cell_type": "code",
      "execution_count": null,
      "metadata": {
        "id": "C6xRTlpRaDpd",
        "colab": {
          "base_uri": "https://localhost:8080/"
        },
        "outputId": "76098270-f4ab-454f-f93c-58baffe95267"
      },
      "outputs": [
        {
          "output_type": "stream",
          "name": "stdout",
          "text": [
            "Enter the message: hello i am aaron\n",
            "Enter the one time pad: hello i am pearlyn\n",
            "Lenghts are different.\n",
            "Encrypted message is:  oiwwcqayperfy\n"
          ]
        }
      ],
      "source": [
        "#ENCRYPTION\n",
        "def ver_encryption():\n",
        "#STEP 1 GETTING INPUTS\n",
        "plain_text=input(\"Enter the message: \")\n",
        "key=input(\"Enter the one time pad: \")\n",
        "cipher_text=''\n",
        "#STEP 2 DATA CLEAN: REPLACING SPACE AND CONVERTING TO LOWER\n",
        "plain_text=plain_text.replace(\" \",\"\")\n",
        "key=key.replace(\" \",\"\")\n",
        "plain_text=plain_text.lower()\n",
        "key=key.lower()\n",
        "#CHECKING IF THE LENGHTS ARE EQUAL\n",
        "if(len(plain_text)!=len(key)):\n",
        "  print(\"Lenghts are different.\")\n",
        "else:\n",
        "  print(\"Length Equal.\")\n",
        "for i in range(len(plain_text)):\n",
        "  k1=ord(plain_text[i])-97\n",
        "  k2=ord(key[i])-97\n",
        "  s=chr((k1+k2)%26+97)\n",
        "  cipher_text+=s\n",
        "print(\"Encrypted message is: \",cipher_text) \n",
        "ver_encryption()"
      ]
    },
    {
      "cell_type": "code",
      "source": [
        "#DECRYPTION\n",
        "def ver_decryption():\n",
        "#STEP 1 GETTING INPUTS\n",
        "    plain_text=input(\"Enter the message: \")\n",
        "    key=input(\"Enter the one time pad: \")\n",
        "    cipher_text=''\n",
        "    #STEP 2 DATA CLEAN: REPLACING SPACE AND CONVERTING TO LOWER\n",
        "    plain_text=plain_text.replace(\" \",\"\")\n",
        "    key=key.replace(\" \",\"\")\n",
        "    plain_text=plain_text.lower()\n",
        "    key=key.lower()\n",
        "    #CHECKING IF THE LENGHTS ARE EQUAL\n",
        "    if(len(plain_text)!=len(key)):\n",
        "      print(\"Lenghts are different.\")\n",
        "    else:\n",
        "      print(\"Length Equal.\")\n",
        "    for i in range(len(plain_text)):\n",
        "      k1=ord(plain_text[i])+97\n",
        "      k2=ord(key[i])+97\n",
        "      s=chr(((k1-k2)+26)%26+97)\n",
        "      cipher_text+=s\n",
        "    print(\"Decrypted message is: \",cipher_text) \n",
        "ver_decryption()"
      ],
      "metadata": {
        "colab": {
          "base_uri": "https://localhost:8080/"
        },
        "id": "anENaKTDr6Mf",
        "outputId": "f4c65a63-01e9-437e-b081-01f57f92d743"
      },
      "execution_count": null,
      "outputs": [
        {
          "output_type": "stream",
          "name": "stdout",
          "text": [
            "Enter the message: oiwwcqayperfy\n",
            "Enter the one time pad: hello i am pearlyn\n",
            "Lenghts are different.\n",
            "Decrypted message is:  helloiamaaron\n"
          ]
        }
      ]
    }
  ]
}