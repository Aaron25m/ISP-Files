{
  "nbformat": 4,
  "nbformat_minor": 0,
  "metadata": {
    "colab": {
      "provenance": [],
      "collapsed_sections": [],
      "authorship_tag": "ABX9TyONsFON98rSF3D/TGWP8YJ+",
      "include_colab_link": true
    },
    "kernelspec": {
      "name": "python3",
      "display_name": "Python 3"
    },
    "language_info": {
      "name": "python"
    }
  },
  "cells": [
    {
      "cell_type": "markdown",
      "metadata": {
        "id": "view-in-github",
        "colab_type": "text"
      },
      "source": [
        "<a href=\"https://colab.research.google.com/github/Aaron25m/ISP-Files/blob/main/ISP6.ipynb\" target=\"_parent\"><img src=\"https://colab.research.google.com/assets/colab-badge.svg\" alt=\"Open In Colab\"/></a>"
      ]
    },
    {
      "cell_type": "markdown",
      "source": [
        "Diffie-Hellman key exchange"
      ],
      "metadata": {
        "id": "MR6_hwJh2EEQ"
      }
    },
    {
      "cell_type": "code",
      "execution_count": null,
      "metadata": {
        "colab": {
          "base_uri": "https://localhost:8080/"
        },
        "id": "_UOkY_Y1xHMM",
        "outputId": "c2fa662b-a3ac-4691-f0eb-dda9f9b5b9c6"
      },
      "outputs": [
        {
          "name": "stdout",
          "output_type": "stream",
          "text": [
            "Both parties agree to a single prime.\n",
            "Enter the prime number to be considered:31\n",
            "Both must agree with single primitive root to use.\n",
            "Enter the primitive root:11\n"
          ]
        }
      ],
      "source": [
        "print(\"Both parties agree to a single prime.\")\n",
        "prime=int(input(\"Enter the prime number to be considered:\"))\n",
        "\n",
        "#Primitive root to be used\n",
        "print(\"Both must agree with single primitive root to use.\")\n",
        "root=int(input(\"Enter the primitive root:\"))"
      ]
    },
    {
      "cell_type": "code",
      "source": [
        "#Party1 chooses a secret number\n",
        "alicesecret=int(input(\"Enter a secret number for Party1: \"))\n",
        "\n",
        "#Party2 chooses a secret number\n",
        "bobsecret=int(input(\"Enter a secret number for Party2: \"))\n",
        "print(\"\\n\")"
      ],
      "metadata": {
        "colab": {
          "base_uri": "https://localhost:8080/"
        },
        "id": "Mpk_PDI253PF",
        "outputId": "39281b51-907c-43b4-8161-f879c89a3c68"
      },
      "execution_count": null,
      "outputs": [
        {
          "output_type": "stream",
          "name": "stdout",
          "text": [
            "Enter a secret number for Party1: 98\n",
            "Enter a secret number for Party2: 60\n",
            "\n",
            "\n"
          ]
        }
      ]
    },
    {
      "cell_type": "code",
      "source": [
        "#Party1 public key A=(root^alicesecret)*mod(prime)\n",
        "print(\"Party1s public key -> A=root^alicesecret*mod(prime)\")\n",
        "alicepublic=(root**alicesecret)%prime\n",
        "print(\"Party1 public key is: \",alicepublic,\"\\n\")\n",
        "\n",
        "#Party2 public key B=(root^bobsecret)*mod(prime)\n",
        "print(\"Party2s public key -> B=root^bobsecret*mod(prime)\")\n",
        "bobpublic=(root**bobsecret)%prime\n",
        "print(\"Party2 public key is: \",bobpublic,\"\\n\")\n"
      ],
      "metadata": {
        "colab": {
          "base_uri": "https://localhost:8080/"
        },
        "id": "1mnD0cNd6hZi",
        "outputId": "91f737db-c1e9-4c93-c811-82c1b848434b"
      },
      "execution_count": null,
      "outputs": [
        {
          "output_type": "stream",
          "name": "stdout",
          "text": [
            "Party1s public key -> A=root^alicesecret*mod(prime)\n",
            "Party1 public key is:  19 \n",
            "\n",
            "Party2s public key -> B=root^bobsecret*mod(prime)\n",
            "Party2 public key is:  1 \n",
            "\n"
          ]
        }
      ]
    },
    {
      "cell_type": "code",
      "source": [
        "#Party1 now calculates the shared key K:\n",
        "#K= B^(alicesecret)*mod(prime)\n",
        "print(\"Party1 calculates the shared key as K=B^alicesecret*(mod(prime))\")\n",
        "alicekey=(bobpublic**alicesecret)%prime\n",
        "print(\"Party1 calculates the shared key and results: \",alicekey,\"\\n\")"
      ],
      "metadata": {
        "colab": {
          "base_uri": "https://localhost:8080/"
        },
        "id": "UtJRG5Mj7b8d",
        "outputId": "d3401d0e-8bd0-4e09-8770-31132bfe1007"
      },
      "execution_count": null,
      "outputs": [
        {
          "output_type": "stream",
          "name": "stdout",
          "text": [
            "Party1 calculates the shared key as K=B^alicesecret*(mod(prime))\n",
            "Party1 calculates the shared key and results:  1 \n",
            "\n"
          ]
        }
      ]
    },
    {
      "cell_type": "code",
      "source": [
        "#Party2 now calculates the shared key K:\n",
        "#K= A^(bobsecret)*mod(prime)\n",
        "print(\"Party2 calculates the shared key as K=A^bobsecret*(mod(prime))\")\n",
        "bobkey=(alicepublic**bobsecret)%prime\n",
        "print(\"Party2 calculates the shared key and results: \",bobkey,\"\\n\")"
      ],
      "metadata": {
        "colab": {
          "base_uri": "https://localhost:8080/"
        },
        "id": "lxrKzSNy8tHf",
        "outputId": "360ecea4-3af1-4346-9be8-8cddc36a4545"
      },
      "execution_count": null,
      "outputs": [
        {
          "output_type": "stream",
          "name": "stdout",
          "text": [
            "Party2 calculates the shared key as K=A^bobsecret*(mod(prime))\n",
            "Party2 calculates the shared key and results:  1 \n",
            "\n"
          ]
        }
      ]
    },
    {
      "cell_type": "code",
      "source": [
        "#Both Alice and Bob now share a key which Eve cannot calculate\n",
        "print(\"Attacker does not know the shared private key that Party1 & Party2 can now use.\")"
      ],
      "metadata": {
        "colab": {
          "base_uri": "https://localhost:8080/"
        },
        "id": "bCzyIDk69AZ2",
        "outputId": "6534039b-7867-4702-f677-c4f85b7c0d50"
      },
      "execution_count": null,
      "outputs": [
        {
          "output_type": "stream",
          "name": "stdout",
          "text": [
            "Attacker does not know the shared private key that Party1 & Party2 can now use.\n"
          ]
        }
      ]
    }
  ]
}