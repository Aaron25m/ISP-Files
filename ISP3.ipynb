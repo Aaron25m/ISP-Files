{
  "nbformat": 4,
  "nbformat_minor": 0,
  "metadata": {
    "colab": {
      "provenance": [],
      "collapsed_sections": [],
      "authorship_tag": "ABX9TyPs6hnJjPAHfLnJ5DFlkB/J",
      "include_colab_link": true
    },
    "kernelspec": {
      "name": "python3",
      "display_name": "Python 3"
    },
    "language_info": {
      "name": "python"
    }
  },
  "cells": [
    {
      "cell_type": "markdown",
      "metadata": {
        "id": "view-in-github",
        "colab_type": "text"
      },
      "source": [
        "<a href=\"https://colab.research.google.com/github/Aaron25m/ISP-Files/blob/main/ISP3.ipynb\" target=\"_parent\"><img src=\"https://colab.research.google.com/assets/colab-badge.svg\" alt=\"Open In Colab\"/></a>"
      ]
    },
    {
      "cell_type": "code",
      "execution_count": null,
      "metadata": {
        "colab": {
          "base_uri": "https://localhost:8080/"
        },
        "id": "RvluvbvrcebE",
        "outputId": "22fd2017-ade9-4674-e4da-5edfba541155"
      },
      "outputs": [
        {
          "output_type": "stream",
          "name": "stdout",
          "text": [
            "Yes Pearlyn is here\n"
          ]
        }
      ],
      "source": [
        "list=[\"apple\",\"tree\"]\n",
        "list.append(\"car\")\n",
        "list.insert(3,\"pearlyn\")\n",
        "if \"pearlyn\" in list:\n",
        "  print(\"Yes Pearlyn is here\")"
      ]
    },
    {
      "cell_type": "code",
      "source": [
        "#append takes only one argument/string whereas extend takes more than one"
      ],
      "metadata": {
        "id": "JiXXDxKKdc4e"
      },
      "execution_count": null,
      "outputs": []
    },
    {
      "cell_type": "code",
      "source": [
        "print(list)"
      ],
      "metadata": {
        "colab": {
          "base_uri": "https://localhost:8080/"
        },
        "id": "fUMSaQv1ek4A",
        "outputId": "a72409fd-6c7d-4515-8dba-0092141a0581"
      },
      "execution_count": null,
      "outputs": [
        {
          "output_type": "stream",
          "name": "stdout",
          "text": [
            "['apple', 'tree', 'car', 'pearlyn']\n"
          ]
        }
      ]
    },
    {
      "cell_type": "code",
      "source": [
        "new_list=[]\n",
        "for i in list:\n",
        "  new_list.append(i.upper())\n",
        "print(new_list)  "
      ],
      "metadata": {
        "colab": {
          "base_uri": "https://localhost:8080/"
        },
        "id": "CPA0sNxqhiVL",
        "outputId": "65f603cc-b2bf-4de2-820b-cb1f9eb15f50"
      },
      "execution_count": null,
      "outputs": [
        {
          "output_type": "stream",
          "name": "stdout",
          "text": [
            "['APPLE', 'TREE', 'CAR', 'PEARLYN']\n"
          ]
        }
      ]
    },
    {
      "cell_type": "markdown",
      "source": [
        "KEYWORD CIPHER"
      ],
      "metadata": {
        "id": "LwkOov81qPbh"
      }
    },
    {
      "cell_type": "code",
      "source": [
        "def key_encrypt():\n",
        "  message=str(input(\"Enter the message: \"))\n",
        "  keyword=str(input(\"Enter the keyword: \"))\n",
        "  #to store all upper case alphabets\n",
        "  all_alphabets=[]\n",
        "  for i in range(65,91):\n",
        "    all_alphabets.append(chr(i))\n",
        "  print(all_alphabets)  \n",
        "\n",
        "  #to convert message to list\n",
        "  msg=[]\n",
        "  for i in message:\n",
        "    msg.append(i.upper())\n",
        "  print(msg)  \n",
        "\n",
        "  #converting keyword to upper case\n",
        "  keyword1=keyword.upper()\n",
        "\n",
        "  #to remove default elements\n",
        "  #to remove duplicates\n",
        "  #the function goes letter by letter of the key and checks if any letter repeats. it also includes spaces.\n",
        "\n",
        "  def duplicates(list):\n",
        "    key=[]\n",
        "    for i in list:\n",
        "      if i not in key:\n",
        "        key.append(i)\n",
        "    return key      \n",
        "\n",
        "  keyword1=duplicates(keyword1)\n",
        "  print(\"Keyword after removing duplicates: \",keyword1) \n",
        "\n",
        "  #to store the encryption list\n",
        "  encrypting=duplicates(keyword1+all_alphabets) \n",
        "\n",
        "  #to remove spaces from the encryption list\n",
        "  for i in encrypting:\n",
        "    if(i==\" \"):\n",
        "     encrypting.remove(\" \") \n",
        "  print(\"Encrypting text is: \", encrypting)\n",
        "\n",
        "  ciphertext=\"\"\n",
        "  for i in range(len(msg)):\n",
        "    if(msg[i] != \" \"):\n",
        "     ciphertext= ciphertext+encrypting[all_alphabets.index(msg[i])]\n",
        "    else:\n",
        "      ciphertext=ciphertext+\" \" \n",
        "  print(\"Keyword: \",keyword)\n",
        "  print(\"Message before Ciphering: \", message)\n",
        "  print(\"Ciphered Text: \", ciphertext)\n",
        "key_encrypt()  \n"
      ],
      "metadata": {
        "colab": {
          "base_uri": "https://localhost:8080/"
        },
        "id": "shaAGi1BqS7q",
        "outputId": "7c6e17ed-aa33-4d26-ae8b-732c7e323217"
      },
      "execution_count": null,
      "outputs": [
        {
          "output_type": "stream",
          "name": "stdout",
          "text": [
            "Enter the message: lake wake\n",
            "Enter the keyword: star wars\n",
            "['A', 'B', 'C', 'D', 'E', 'F', 'G', 'H', 'I', 'J', 'K', 'L', 'M', 'N', 'O', 'P', 'Q', 'R', 'S', 'T', 'U', 'V', 'W', 'X', 'Y', 'Z']\n",
            "['L', 'A', 'K', 'E', ' ', 'W', 'A', 'K', 'E']\n",
            "Keyword after removing duplicates:  ['S', 'T', 'A', 'R', ' ', 'W']\n",
            "Encrypting text is:  ['S', 'T', 'A', 'R', 'W', 'B', 'C', 'D', 'E', 'F', 'G', 'H', 'I', 'J', 'K', 'L', 'M', 'N', 'O', 'P', 'Q', 'U', 'V', 'X', 'Y', 'Z']\n",
            "Keyword:  star wars\n",
            "Message before Ciphering:  lake wake\n",
            "Ciphered Text:  HSGW VSGW\n"
          ]
        }
      ]
    },
    {
      "cell_type": "code",
      "source": [
        "def decrypt():\n",
        "  \n",
        "  cyphertext=str(input(\"Enter the text:\"))\n",
        "  keyword=str(input(\"Enter the keyword:\"))\n",
        "  \n",
        "  all_alphabets=[]\n",
        "  for i in range(65,91):\n",
        "    all_alphabets.append(chr(i))\n",
        "    \n",
        "  keyword1=keyword.upper()\n",
        "\n",
        "\n",
        "  # converts message to list\n",
        "  ct = []\n",
        "  for i in cyphertext:\n",
        "    ct.append(i.upper())\n",
        "\n",
        "  # removes default elements\n",
        "\n",
        "\n",
        "  def duplicates(list):\n",
        "    key = []\n",
        "    for i in list:\n",
        "      if i not in key:\n",
        "        key.append(i)\n",
        "\n",
        "    return key\n",
        "\n",
        "\n",
        "  keyword1 = duplicates(keyword1)\n",
        "\n",
        "  # Stores the encryption list\n",
        "  encrypting = duplicates(keyword1+all_alphabets)\n",
        "\n",
        "  # removes spaces from the encryption list\n",
        "  for i in encrypting:\n",
        "    if(i == ' '):\n",
        "      encrypting.remove(' ')\n",
        "\n",
        "  # maps each element of the message to the encryption list and stores it in ciphertext\n",
        "  message = \"\"\n",
        "  for i in range(len(ct)):\n",
        "    if(ct[i] != ' '):\n",
        "      message = message+all_alphabets[encrypting.index(ct[i])]\n",
        "    else:\n",
        "      message = message+' '\n",
        "\n",
        "  print(\"Keyword : \", keyword)\n",
        "  print(\"Ciphered Text : \", cyphertext)\n",
        "  print(\"Message before Ciphering : \", message)\n",
        "\n",
        "\n",
        "decrypt()"
      ],
      "metadata": {
        "colab": {
          "base_uri": "https://localhost:8080/"
        },
        "id": "cyVWe2SpicAW",
        "outputId": "7278585d-a42f-403c-e14a-f1e77e006aac"
      },
      "execution_count": null,
      "outputs": [
        {
          "output_type": "stream",
          "name": "stdout",
          "text": [
            "Enter the text:HSGW VSGW\n",
            "Enter the keyword:star wars\n",
            "Keyword :  star wars\n",
            "Ciphered Text :  HSGW VSGW\n",
            "Message before Ciphering :  LAKE WAKE\n"
          ]
        }
      ]
    }
  ]
}